{
 "cells": [
  {
   "cell_type": "code",
   "execution_count": 1,
   "metadata": {},
   "outputs": [
    {
     "name": "stderr",
     "output_type": "stream",
     "text": [
      "c:\\Anaconda\\envs\\bigdata\\Lib\\site-packages\\sklearn\\feature_extraction\\text.py:521: UserWarning: The parameter 'token_pattern' will not be used since 'tokenizer' is not None'\n",
      "  warnings.warn(\n",
      "Building prefix dict from the default dictionary ...\n",
      "Loading model from cache C:\\Users\\SHENG-~1\\AppData\\Local\\Temp\\jieba.cache\n",
      "Loading model cost 0.695 seconds.\n",
      "Prefix dict has been built successfully.\n"
     ]
    },
    {
     "name": "stdout",
     "output_type": "stream",
     "text": [
      "詞彙表: ['三星' '三星 筆記型' '保護套' '充電器' '手機' '手機 保護套' '手機 充電器' '手機殼' '筆記型' '筆記型 電腦'\n",
      " '華為' '華為 手機' '蘋果' '蘋果 手機殼' '蘋果 筆記型' '電腦']\n",
      "TF-IDF 特徵矩陣:\n",
      "[[0.         0.         0.         0.         0.         0.\n",
      "  0.         0.61418897 0.         0.         0.         0.\n",
      "  0.49552379 0.61418897 0.         0.        ]\n",
      " [0.         0.         0.         0.         0.         0.\n",
      "  0.         0.         0.42500138 0.42500138 0.         0.\n",
      "  0.42500138 0.         0.52677825 0.42500138]\n",
      " [0.         0.         0.         0.61418897 0.49552379 0.\n",
      "  0.61418897 0.         0.         0.         0.         0.\n",
      "  0.         0.         0.         0.        ]\n",
      " [0.50297966 0.50297966 0.         0.         0.         0.\n",
      "  0.         0.         0.40580082 0.40580082 0.         0.\n",
      "  0.         0.         0.         0.40580082]\n",
      " [0.         0.         0.46369322 0.         0.37410477 0.46369322\n",
      "  0.         0.         0.         0.         0.46369322 0.46369322\n",
      "  0.         0.         0.         0.        ]]\n"
     ]
    }
   ],
   "source": [
    "import jieba\n",
    "from sklearn.feature_extraction.text import TfidfVectorizer\n",
    "import pandas as pd\n",
    "\n",
    "# 假設你有一個電子商務商品名稱的數據集\n",
    "data = {\n",
    "    'product_name': [\n",
    "        '蘋果手機殼',\n",
    "        '蘋果筆記型電腦',\n",
    "        '手機充電器',\n",
    "        '三星筆記型電腦',\n",
    "        '華為手機保護套'\n",
    "    ]\n",
    "}\n",
    "\n",
    "# 將商品名稱放入一個 Pandas DataFrame 中\n",
    "items_df = pd.DataFrame(data)\n",
    "\n",
    "# 定義一個基於 jieba 的分詞函數\n",
    "def jieba_tokenizer(text):\n",
    "    return jieba.lcut(text)\n",
    "\n",
    "# 創建 TfidfVectorizer，並指定 tokenizer 為 jieba_tokenizer\n",
    "tfidf = TfidfVectorizer(tokenizer=jieba_tokenizer, ngram_range=(1, 2))\n",
    "\n",
    "# 將商品名稱轉換為 TF-IDF 特徵矩陣\n",
    "items_tfidf_matrix = tfidf.fit_transform(items_df['product_name'])\n",
    "\n",
    "# 打印詞彙表\n",
    "print(\"詞彙表:\", tfidf.get_feature_names_out())\n",
    "\n",
    "# 打印 TF-IDF 特徵矩陣\n",
    "print(\"TF-IDF 特徵矩陣:\")\n",
    "print(items_tfidf_matrix.toarray())\n"
   ]
  }
 ],
 "metadata": {
  "kernelspec": {
   "display_name": "bigdata",
   "language": "python",
   "name": "python3"
  },
  "language_info": {
   "codemirror_mode": {
    "name": "ipython",
    "version": 3
   },
   "file_extension": ".py",
   "mimetype": "text/x-python",
   "name": "python",
   "nbconvert_exporter": "python",
   "pygments_lexer": "ipython3",
   "version": "3.12.5"
  }
 },
 "nbformat": 4,
 "nbformat_minor": 2
}
